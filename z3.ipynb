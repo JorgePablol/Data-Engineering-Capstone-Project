{
 "cells": [
  {
   "cell_type": "markdown",
   "id": "e762996c-6980-407b-bf30-534704ad69b6",
   "metadata": {
    "jupyter": {
     "outputs_hidden": false
    },
    "pycharm": {
     "name": "#%%\n"
    }
   },
   "source": [
    "# z3: Data Quality"
   ]
  },
  {
   "cell_type": "markdown",
   "id": "0c9d09d6-bae6-4287-9f54-d4f0394d9772",
   "metadata": {
    "pycharm": {
     "name": "#%% md\n"
    }
   },
   "source": [
    "## Step 1: Scope the project and gather the data\n",
    "The purpose of this project is to use the things we have learn from the course to implement data quality checks for data uploaded into a etl."
   ]
  },
  {
   "cell_type": "markdown",
   "id": "4fe17028-cb7a-4e0b-9572-b096cd985a98",
   "metadata": {
    "jupyter": {
     "outputs_hidden": false
    },
    "pycharm": {
     "name": "#%%\n"
    }
   },
   "source": [
    "# z3 version 1"
   ]
  },
  {
   "cell_type": "code",
   "execution_count": 1,
   "id": "904ae87d-8b6b-4425-bc3e-873c8637eb71",
   "metadata": {
    "pycharm": {
     "name": "#%%\n"
    }
   },
   "outputs": [],
   "source": [
    "from z3_nodes.z3_sellout import z3Sellout\n",
    "from z3_nodes.z3_inventory import z3Inventory\n",
    "from base.z3_base import z3Base\n",
    "import warnings\n",
    "warnings.filterwarnings(\"ignore\")"
   ]
  },
  {
   "cell_type": "code",
   "execution_count": 2,
   "id": "985d487e-5a36-4547-93ac-8572f9311ead",
   "metadata": {},
   "outputs": [],
   "source": [
    "z3Base.drop_tables()"
   ]
  },
  {
   "cell_type": "code",
   "execution_count": 3,
   "id": "d905d06f-1ee2-46f3-9f2a-70562dbe2d3b",
   "metadata": {
    "pycharm": {
     "name": "#%%\n"
    },
    "tags": []
   },
   "outputs": [
    {
     "data": {
      "text/plain": [
       "<z3_nodes.z3_sellout.z3Sellout at 0x7ff0b89ec610>"
      ]
     },
     "execution_count": 3,
     "metadata": {},
     "output_type": "execute_result"
    }
   ],
   "source": [
    "z3Sellout()"
   ]
  },
  {
   "cell_type": "code",
   "execution_count": 4,
   "id": "4bc422df-2dab-4ac8-9f66-a965c02cdfc8",
   "metadata": {
    "pycharm": {
     "name": "#%%\n"
    },
    "tags": []
   },
   "outputs": [
    {
     "data": {
      "text/plain": [
       "<z3_nodes.z3_inventory.z3Inventory at 0x7ff0b8981c10>"
      ]
     },
     "execution_count": 4,
     "metadata": {},
     "output_type": "execute_result"
    }
   ],
   "source": [
    "z3Inventory()"
   ]
  },
  {
   "cell_type": "code",
   "execution_count": null,
   "id": "cf94e170-7140-4abb-812a-5664db0895ad",
   "metadata": {},
   "outputs": [],
   "source": []
  }
 ],
 "metadata": {
  "kernelspec": {
   "display_name": "Python 3 (ipykernel)",
   "language": "python",
   "name": "python3"
  },
  "language_info": {
   "codemirror_mode": {
    "name": "ipython",
    "version": 3
   },
   "file_extension": ".py",
   "mimetype": "text/x-python",
   "name": "python",
   "nbconvert_exporter": "python",
   "pygments_lexer": "ipython3",
   "version": "3.8.10"
  }
 },
 "nbformat": 4,
 "nbformat_minor": 5
}
